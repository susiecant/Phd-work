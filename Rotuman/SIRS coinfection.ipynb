{
 "cells": [
  {
   "cell_type": "code",
   "execution_count": 1,
   "metadata": {
    "collapsed": true
   },
   "outputs": [],
   "source": [
    "import pandas as pd \n",
    "import numpy as np\n",
    "import matplotlib.pyplot as plt\n",
    "from datetime import datetime,timedelta\n",
    "import scipy.integrate as spi\n",
    "import pylab as pl\n",
    "import matplotlib as mlb\n",
    "from lmfit import minimize, Parameters, Parameter, report_fit\n",
    "from scipy.signal import savgol_filter\n",
    "import operator\n",
    "from pyDOE import *"
   ]
  },
  {
   "cell_type": "code",
   "execution_count": 2,
   "metadata": {
    "collapsed": true
   },
   "outputs": [],
   "source": [
    "data2=pd.read_csv(\"data2.csv\")\n",
    "alive1911=pd.read_csv(\"alivein1911.csv\")\n",
    "cause=pd.Series(data2['Cause of Death'])\n",
    "measles=data2[cause.str.contains('measles')==True]\n",
    "cause=pd.Series(alive1911['Cause of Death'])\n",
    "measles1911=alive1911[cause.str.contains('measles')==True]"
   ]
  },
  {
   "cell_type": "code",
   "execution_count": 3,
   "metadata": {
    "collapsed": true
   },
   "outputs": [],
   "source": [
    "measles_only=np.array([])\n",
    "for i in range(len(measles1911)):\n",
    "    \n",
    "    if measles1911['Cause of Death'].values[i]=='measles':\n",
    "        measles_only=np.hstack((measles_only,measles1911['Deathdate'].values[i]))"
   ]
  },
  {
   "cell_type": "code",
   "execution_count": 4,
   "metadata": {
    "collapsed": true
   },
   "outputs": [],
   "source": [
    "measles_diarrhoea=np.array([])\n",
    "for i in range(len(measles1911)):\n",
    "    \n",
    "    if measles1911['Cause of Death'].values[i]=='measles, diarrhoea':\n",
    "        measles_diarrhoea=np.hstack((measles_diarrhoea,measles1911['Deathdate'].values[i]))\n",
    "    \n",
    "    elif measles1911['Cause of Death'].values[i]=='measles, diahrroea':\n",
    "        measles_diarrhoea=np.hstack((measles_diarrhoea,measles1911['Deathdate'].values[i]))  \n",
    "    elif measles1911['Cause of Death'].values[i]=='measles, ileo-colitis':\n",
    "        measles_diarrhoea=np.hstack((measles_diarrhoea,measles1911['Deathdate'].values[i])) \n",
    "    elif measles1911['Cause of Death'].values[i]=='measles, diarrhoea,\\x0bheart failure':\n",
    "        measles_diarrhoea=np.hstack((measles_diarrhoea,measles1911['Deathdate'].values[i])) \n",
    "        \n",
    "    elif measles1911['Cause of Death'].values[i]=='measles, diarrhoea,\\x0bchildbirth':\n",
    "        measles_diarrhoea=np.hstack((measles_diarrhoea,measles1911['Deathdate'].values[i])) \n",
    "        \n",
    "    elif measles1911['Cause of Death'].values[i]== 'measles, diarrhoea,\\x0bmiscarriage':\n",
    "        measles_diarrhoea=np.hstack((measles_diarrhoea,measles1911['Deathdate'].values[i])) \n",
    "    \n",
    "    elif measles1911['Cause of Death'].values[i]== 'measles, gastritis':\n",
    "        measles_diarrhoea=np.hstack((measles_diarrhoea,measles1911['Deathdate'].values[i])) \n",
    "        "
   ]
  },
  {
   "cell_type": "code",
   "execution_count": 5,
   "metadata": {
    "collapsed": true
   },
   "outputs": [],
   "source": [
    "measles_only=sorted(measles_only,key=lambda x: datetime.strptime(x, '%d/%m/%Y'))\n",
    "measles_diar=sorted(measles_diarrhoea,key=lambda x: datetime.strptime(x, '%d/%m/%Y'))\n",
    "deathmeasles=pd.unique(measles_diar)\n",
    "daterange=pd.date_range(deathmeasles[0],deathmeasles[-1],freq='D')"
   ]
  },
  {
   "cell_type": "code",
   "execution_count": 6,
   "metadata": {
    "collapsed": true
   },
   "outputs": [],
   "source": [
    "values3=np.zeros(len(daterange))\n",
    "deathtime3=np.zeros(len(daterange))\n",
    "for i in range(len(daterange)):\n",
    "    for j in range(len(measles_only)):\n",
    "        if daterange[i]==datetime.strptime(measles_only[j],'%d/%m/%Y'):\n",
    "            #print(i)\n",
    "            #print(j)\n",
    "            values3[i]=values3[i]+1"
   ]
  },
  {
   "cell_type": "code",
   "execution_count": 7,
   "metadata": {
    "collapsed": true
   },
   "outputs": [],
   "source": [
    "values2=np.zeros(len(daterange))\n",
    "deathtime2=np.zeros(len(daterange))\n",
    "for i in range(len(daterange)):\n",
    "    for j in range(len(measles_diarrhoea)):\n",
    "        if daterange[i]==datetime.strptime(measles_diarrhoea[j],'%d/%m/%Y'):\n",
    "            #print(i)\n",
    "            #print(j)\n",
    "            values2[i]=values2[i]+1"
   ]
  },
  {
   "cell_type": "code",
   "execution_count": 8,
   "metadata": {
    "collapsed": true
   },
   "outputs": [],
   "source": [
    "measles_timeseries=np.hstack((np.zeros(30),values3,np.zeros(10)))\n",
    "coinf_timeseries=np.hstack((np.zeros(30),values2,np.zeros(10)))\n",
    "measles_timeseries2=np.hstack((np.zeros(10),values3,np.zeros(30)))\n",
    "coinf_timeseries2=np.hstack((np.zeros(10),values2,np.zeros(30)))\n",
    "measles_timeseries3=np.hstack((np.zeros(1),values3,np.zeros(39)))\n",
    "coinf_timeseries3=np.hstack((np.zeros(1),values2,np.zeros(39)))"
   ]
  },
  {
   "cell_type": "code",
   "execution_count": null,
   "metadata": {
    "collapsed": true
   },
   "outputs": [],
   "source": []
  },
  {
   "cell_type": "code",
   "execution_count": 9,
   "metadata": {
    "collapsed": true
   },
   "outputs": [],
   "source": [
    "def coinf_sirs_model(INP,t,ps):  \n",
    "    try:\n",
    "        beta0=ps['beta0'].value\n",
    "        beta1=ps['beta1'].value\n",
    "#     beta=np.hstack((ps['beta0'].value,ps['beta1'].value))\n",
    "        gamma0=ps['gamma0'].value\n",
    "        gamma1=ps['gamma1'].value\n",
    "        c1=ps['c1'].value\n",
    "        c2=ps['c2'].value\n",
    "        c3=ps['c3'].value\n",
    "        c4=ps['c4'].value\n",
    "        sigma=ps['sigma'].value\n",
    "        omega=ps['omega'].value\n",
    "        delta0=ps['delta0'].value\n",
    "\n",
    "    except:\n",
    "        beta0,beta1,gamma0,gamma1,c1,c2,c3,c4,sigma,omega,delta0=ps\n",
    "    N=2618\n",
    "    \n",
    "    mu=np.array([c1*omega,c2*omega,c3*omega,c4*gamma1])\n",
    "    beta=np.hstack((beta0/N,beta1/N))\n",
    "\n",
    "    \n",
    "    Y=np.zeros((17))\n",
    "    V = INP    \n",
    "    \n",
    "    infect_0=(V[1]+V[4]+V[7]+V[10]+V[13])\n",
    "    infect_1=(V[6]+V[7]+V[8])\n",
    "    \n",
    "    \n",
    "    Y[0]=-beta1*V[0]*infect_1-beta0*V[0]*infect_0+delta0*V[2]\n",
    "\n",
    "    Y[1]=-beta1*V[1]*infect_1+beta0*V[0]*infect_0-gamma0*V[1]\n",
    "\n",
    "    Y[2]=-beta1*V[2]*infect_1+gamma0*V[1]-delta0*V[2]\n",
    "\n",
    "\n",
    "\n",
    "    Y[3]=beta1*V[0]*infect_1-sigma*V[3]-beta0*V[3]*infect_0+delta0*V[5]\n",
    "\n",
    "    Y[4]=beta1*V[1]*infect_1-sigma*V[4]+beta0*V[3]*infect_0-gamma0*V[4]\n",
    "\n",
    "    Y[5]=beta1*V[2]*infect_1-sigma*V[5]+gamma0*V[4]-delta0*V[5]\n",
    "\n",
    "\n",
    "\n",
    "    Y[6]=sigma*V[3]-mu[0]*V[6]-omega*Y[6]-beta0*V[6]*infect_0+delta0*V[8]\n",
    "\n",
    "    Y[7]=sigma*V[4]-mu[1]*V[7]-omega*Y[7]+beta0*V[6]*infect_0-gamma0*V[7]\n",
    "\n",
    "    Y[8]=sigma*V[5]-mu[2]*V[8]-omega*Y[8]+gamma0*V[7]-delta0*V[8]\n",
    "\n",
    "\n",
    "\n",
    "    Y[9]=omega*Y[6]-gamma1*Y[9]-beta0*V[9]*infect_0+delta0*V[11]\n",
    "\n",
    "    Y[10]=omega*Y[7]-gamma1*Y[10]-mu[3]*V[10]+beta0*V[9]*infect_0-gamma0*V[10]\n",
    "\n",
    "    Y[11]=omega*Y[8]-gamma1*Y[11]+gamma0*V[10]-delta0*V[11]\n",
    "\n",
    "\n",
    "\n",
    "    Y[12]=gamma1*Y[9]-beta0*V[12]*infect_0+delta0*V[14]\n",
    "\n",
    "    Y[13]=gamma1*Y[10]+beta0*V[12]*infect_0-gamma0*V[13]\n",
    "\n",
    "    Y[14]=gamma1*Y[11]+gamma0*V[13]-delta0*V[14]\n",
    "\n",
    "\n",
    "\n",
    "    Y[15]=mu[0]*V[6]+mu[2]*V[8]\n",
    "    Y[16]=mu[1]*V[7]+mu[3]*V[10]\n",
    "\n",
    "    \n",
    "    return Y   # For odeint\n"
   ]
  },
  {
   "cell_type": "code",
   "execution_count": 10,
   "metadata": {},
   "outputs": [
    {
     "name": "stderr",
     "output_type": "stream",
     "text": [
      "/home/susanna/anaconda3/lib/python3.6/site-packages/scipy/integrate/odepack.py:218: ODEintWarning: Excess work done on this call (perhaps wrong Dfun type). Run with full_output = 1 to get quantitative information.\n",
      "  warnings.warn(warning_msg, ODEintWarning)\n"
     ]
    }
   ],
   "source": [
    "N=2618\n",
    "#sigma=1/14\n",
    "IS0=600\n",
    "RS0=0\n",
    "SE0=2\n",
    "IE0=0\n",
    "RE0=0\n",
    "SI0=0\n",
    "II0=0\n",
    "RI0=0\n",
    "SX0=0\n",
    "IX0=0\n",
    "RX0=0\n",
    "SR0=0\n",
    "IR0=0\n",
    "RR0=0\n",
    "SS0=N-IS0-SE0-RS0\n",
    "INPUT=(SS0,IS0,RS0,SE0,IE0,RE0,SI0,II0,RI0,SX0,IX0,RX0,SR0,IR0,RR0,0,0)\n",
    "ts_len=len(measles_timeseries)\n",
    "def g(t, INP, ps):\n",
    "    RES = spi.odeint(coinf_sirs_model,INP,t,args=(ps,))\n",
    "    res_measles=RES[1:ts_len+1,15]-RES[0:ts_len,15]\n",
    "    res_coinf=RES[1:ts_len+1,16]-RES[0:ts_len,16]\n",
    "    \n",
    "    x=np.array((res_measles,res_coinf))\n",
    "    #x = odeint(f, x0, t, args=(ps,))\n",
    "    return x\n",
    "\n",
    "def residual(ps,INP, ts, data):\n",
    "    #x0 = ps['x0'].value\n",
    "    #model = g(ts, x0, ps)\n",
    "    RES = spi.odeint(coinf_sirs_model,INP,ts,args=(ps,))\n",
    "    res_measles=RES[1:ts_len+1,15]-RES[0:ts_len,15]\n",
    "    res_coinf=RES[1:ts_len+1,16]-RES[0:ts_len,16]\n",
    "    \n",
    "    model=np.array((res_measles,res_coinf))\n",
    "    return (model - data).ravel()\n",
    "\n",
    "# a = 2.0\n",
    "# b = 0.5\n",
    "# true_params = [a, b]\n",
    "# x0 = 10.0\n",
    "\n",
    "TS=1.0\n",
    "ND=float(ts_len+1)\n",
    "t_start = 0.0; t_end = ND; t_inc = TS\n",
    "t_range = np.arange(t_start, t_end+t_inc, t_inc)\n",
    "\n",
    "measles_ts_smooth = savgol_filter(measles_timeseries, 41, 3)\n",
    "coinf_ts_smooth = savgol_filter(coinf_timeseries, 41, 3)\n",
    "#time_series=np.array((measles_ts_smooth,coinf_ts_smooth))\n",
    "time_series=np.array((measles_timeseries,coinf_timeseries))\n",
    "# t = np.linspace(0, 10, 10)\n",
    "# data = g(t, x0, true_params)\n",
    "# data += np.random.normal(size=data.shape)\n",
    "\n",
    "# set parameters incluing bounds\n",
    "params = Parameters()\n",
    "params.add('beta0',value=1.2,min=0.01,max=5)\n",
    "params.add('beta1',value=0.5,min=0.01,max=5)\n",
    "params.add('gamma0',value=0.1,min=0.01,max=0.9)\n",
    "params.add('gamma1',value=0.1,min=0.001,max=0.9)\n",
    "params.add('c1',value=0.1,min=0.0001,max=0.9)\n",
    "params.add('c2',value=0.1,min=0.0001,max=0.9)\n",
    "params.add('c3',value=0.1,min=0.0001,max=0.9)\n",
    "params.add('c4',value=0.1,min=0.0001,max=0.9)\n",
    "params.add('sigma',value=0.1,min=1/12,max=1/4)\n",
    "params.add('omega',value=0.1,min=1/12,max=1/4)\n",
    "#params.add('omega1',value=0.1,min=1/20,max=1/2)\n",
    "params.add('delta0',value=1.0,min=0.9,max=1)\n",
    "#params.add('alpha1',value=0.1,min=0,max=1)\n",
    "\n",
    "# params.add('x0', value=float(data[0]), min=0, max=100)\n",
    "# params.add('a', value= 1.0, min=0, max=10)\n",
    "# params.add('b', value= 1.0, min=0, max=10)\n",
    "\n",
    "# fit model and find predicted values\n",
    "result = minimize(residual, params, args=(INPUT,t_range, time_series), method='leastsq')\n",
    "final = time_series + result.residual.reshape(time_series.shape)\n",
    "\n",
    "\n",
    "# beta0,beta1,gamma0,gamma1,c=1.2,1.2,0.1,0.1,0.1\n",
    "# true_params = np.array((beta0,beta1,gamma0,gamma1,c))\n",
    "# data = g(t_range, INPUT, true_params)\n",
    "# data += np.random.normal(size=data.shape)\n",
    "# result = minimize(residual, params, args=(INPUT,t_range, data), method='leastsq')\n",
    "# final = data + result.residual.reshape(data.shape)\n",
    "\n",
    "\n",
    "# plot data and fitted curves\n",
    "# plt.plot(t, data, 'o')\n",
    "# plt.plot(t, final, '--', linewidth=2, c='blue');\n",
    "\n",
    "# # display fitted statistics\n",
    "# report_fit(result)"
   ]
  },
  {
   "cell_type": "code",
   "execution_count": 12,
   "metadata": {},
   "outputs": [
    {
     "ename": "ModuleNotFoundError",
     "evalue": "No module named 'PyQt4'",
     "output_type": "error",
     "traceback": [
      "\u001b[0;31m---------------------------------------------------------------------------\u001b[0m",
      "\u001b[0;31mModuleNotFoundError\u001b[0m                       Traceback (most recent call last)",
      "\u001b[0;32m<ipython-input-12-3f14824ee391>\u001b[0m in \u001b[0;36m<module>\u001b[0;34m()\u001b[0m\n\u001b[0;32m----> 1\u001b[0;31m \u001b[0mget_ipython\u001b[0m\u001b[0;34m(\u001b[0m\u001b[0;34m)\u001b[0m\u001b[0;34m.\u001b[0m\u001b[0mmagic\u001b[0m\u001b[0;34m(\u001b[0m\u001b[0;34m'matplotlib qt'\u001b[0m\u001b[0;34m)\u001b[0m\u001b[0;34m\u001b[0m\u001b[0m\n\u001b[0m\u001b[1;32m      2\u001b[0m \u001b[0mplt\u001b[0m\u001b[0;34m.\u001b[0m\u001b[0mfigure\u001b[0m\u001b[0;34m(\u001b[0m\u001b[0mfigsize\u001b[0m\u001b[0;34m=\u001b[0m\u001b[0;34m(\u001b[0m\u001b[0;36m15\u001b[0m\u001b[0;34m,\u001b[0m\u001b[0;36m10\u001b[0m\u001b[0;34m)\u001b[0m\u001b[0;34m)\u001b[0m\u001b[0;34m\u001b[0m\u001b[0m\n\u001b[1;32m      3\u001b[0m \u001b[0mplt\u001b[0m\u001b[0;34m.\u001b[0m\u001b[0mplot\u001b[0m\u001b[0;34m(\u001b[0m\u001b[0mtime_series\u001b[0m\u001b[0;34m[\u001b[0m\u001b[0;36m0\u001b[0m\u001b[0;34m]\u001b[0m\u001b[0;34m,\u001b[0m\u001b[0mlabel\u001b[0m\u001b[0;34m=\u001b[0m\u001b[0;34m\"Measles\"\u001b[0m\u001b[0;34m)\u001b[0m\u001b[0;34m\u001b[0m\u001b[0m\n\u001b[1;32m      4\u001b[0m \u001b[0mplt\u001b[0m\u001b[0;34m.\u001b[0m\u001b[0mplot\u001b[0m\u001b[0;34m(\u001b[0m\u001b[0mtime_series\u001b[0m\u001b[0;34m[\u001b[0m\u001b[0;36m1\u001b[0m\u001b[0;34m]\u001b[0m\u001b[0;34m,\u001b[0m\u001b[0mlabel\u001b[0m\u001b[0;34m=\u001b[0m\u001b[0;34m\"Coinfection\"\u001b[0m\u001b[0;34m)\u001b[0m\u001b[0;34m\u001b[0m\u001b[0m\n\u001b[1;32m      5\u001b[0m \u001b[0mplt\u001b[0m\u001b[0;34m.\u001b[0m\u001b[0mplot\u001b[0m\u001b[0;34m(\u001b[0m\u001b[0mfinal\u001b[0m\u001b[0;34m[\u001b[0m\u001b[0;36m0\u001b[0m\u001b[0;34m]\u001b[0m\u001b[0;34m,\u001b[0m\u001b[0mlabel\u001b[0m\u001b[0;34m=\u001b[0m\u001b[0;34m\"fit to measles\"\u001b[0m\u001b[0;34m)\u001b[0m\u001b[0;34m\u001b[0m\u001b[0m\n",
      "\u001b[0;32m~/anaconda3/lib/python3.6/site-packages/IPython/core/interactiveshell.py\u001b[0m in \u001b[0;36mmagic\u001b[0;34m(self, arg_s)\u001b[0m\n\u001b[1;32m   2144\u001b[0m         \u001b[0mmagic_name\u001b[0m\u001b[0;34m,\u001b[0m \u001b[0m_\u001b[0m\u001b[0;34m,\u001b[0m \u001b[0mmagic_arg_s\u001b[0m \u001b[0;34m=\u001b[0m \u001b[0marg_s\u001b[0m\u001b[0;34m.\u001b[0m\u001b[0mpartition\u001b[0m\u001b[0;34m(\u001b[0m\u001b[0;34m' '\u001b[0m\u001b[0;34m)\u001b[0m\u001b[0;34m\u001b[0m\u001b[0m\n\u001b[1;32m   2145\u001b[0m         \u001b[0mmagic_name\u001b[0m \u001b[0;34m=\u001b[0m \u001b[0mmagic_name\u001b[0m\u001b[0;34m.\u001b[0m\u001b[0mlstrip\u001b[0m\u001b[0;34m(\u001b[0m\u001b[0mprefilter\u001b[0m\u001b[0;34m.\u001b[0m\u001b[0mESC_MAGIC\u001b[0m\u001b[0;34m)\u001b[0m\u001b[0;34m\u001b[0m\u001b[0m\n\u001b[0;32m-> 2146\u001b[0;31m         \u001b[0;32mreturn\u001b[0m \u001b[0mself\u001b[0m\u001b[0;34m.\u001b[0m\u001b[0mrun_line_magic\u001b[0m\u001b[0;34m(\u001b[0m\u001b[0mmagic_name\u001b[0m\u001b[0;34m,\u001b[0m \u001b[0mmagic_arg_s\u001b[0m\u001b[0;34m)\u001b[0m\u001b[0;34m\u001b[0m\u001b[0m\n\u001b[0m\u001b[1;32m   2147\u001b[0m \u001b[0;34m\u001b[0m\u001b[0m\n\u001b[1;32m   2148\u001b[0m     \u001b[0;31m#-------------------------------------------------------------------------\u001b[0m\u001b[0;34m\u001b[0m\u001b[0;34m\u001b[0m\u001b[0m\n",
      "\u001b[0;32m~/anaconda3/lib/python3.6/site-packages/IPython/core/interactiveshell.py\u001b[0m in \u001b[0;36mrun_line_magic\u001b[0;34m(self, magic_name, line)\u001b[0m\n\u001b[1;32m   2065\u001b[0m                 \u001b[0mkwargs\u001b[0m\u001b[0;34m[\u001b[0m\u001b[0;34m'local_ns'\u001b[0m\u001b[0;34m]\u001b[0m \u001b[0;34m=\u001b[0m \u001b[0msys\u001b[0m\u001b[0;34m.\u001b[0m\u001b[0m_getframe\u001b[0m\u001b[0;34m(\u001b[0m\u001b[0mstack_depth\u001b[0m\u001b[0;34m)\u001b[0m\u001b[0;34m.\u001b[0m\u001b[0mf_locals\u001b[0m\u001b[0;34m\u001b[0m\u001b[0m\n\u001b[1;32m   2066\u001b[0m             \u001b[0;32mwith\u001b[0m \u001b[0mself\u001b[0m\u001b[0;34m.\u001b[0m\u001b[0mbuiltin_trap\u001b[0m\u001b[0;34m:\u001b[0m\u001b[0;34m\u001b[0m\u001b[0m\n\u001b[0;32m-> 2067\u001b[0;31m                 \u001b[0mresult\u001b[0m \u001b[0;34m=\u001b[0m \u001b[0mfn\u001b[0m\u001b[0;34m(\u001b[0m\u001b[0;34m*\u001b[0m\u001b[0margs\u001b[0m\u001b[0;34m,\u001b[0m\u001b[0;34m**\u001b[0m\u001b[0mkwargs\u001b[0m\u001b[0;34m)\u001b[0m\u001b[0;34m\u001b[0m\u001b[0m\n\u001b[0m\u001b[1;32m   2068\u001b[0m             \u001b[0;32mreturn\u001b[0m \u001b[0mresult\u001b[0m\u001b[0;34m\u001b[0m\u001b[0m\n\u001b[1;32m   2069\u001b[0m \u001b[0;34m\u001b[0m\u001b[0m\n",
      "\u001b[0;32m<decorator-gen-107>\u001b[0m in \u001b[0;36mmatplotlib\u001b[0;34m(self, line)\u001b[0m\n",
      "\u001b[0;32m~/anaconda3/lib/python3.6/site-packages/IPython/core/magic.py\u001b[0m in \u001b[0;36m<lambda>\u001b[0;34m(f, *a, **k)\u001b[0m\n\u001b[1;32m    185\u001b[0m     \u001b[0;31m# but it's overkill for just that one bit of state.\u001b[0m\u001b[0;34m\u001b[0m\u001b[0;34m\u001b[0m\u001b[0m\n\u001b[1;32m    186\u001b[0m     \u001b[0;32mdef\u001b[0m \u001b[0mmagic_deco\u001b[0m\u001b[0;34m(\u001b[0m\u001b[0marg\u001b[0m\u001b[0;34m)\u001b[0m\u001b[0;34m:\u001b[0m\u001b[0;34m\u001b[0m\u001b[0m\n\u001b[0;32m--> 187\u001b[0;31m         \u001b[0mcall\u001b[0m \u001b[0;34m=\u001b[0m \u001b[0;32mlambda\u001b[0m \u001b[0mf\u001b[0m\u001b[0;34m,\u001b[0m \u001b[0;34m*\u001b[0m\u001b[0ma\u001b[0m\u001b[0;34m,\u001b[0m \u001b[0;34m**\u001b[0m\u001b[0mk\u001b[0m\u001b[0;34m:\u001b[0m \u001b[0mf\u001b[0m\u001b[0;34m(\u001b[0m\u001b[0;34m*\u001b[0m\u001b[0ma\u001b[0m\u001b[0;34m,\u001b[0m \u001b[0;34m**\u001b[0m\u001b[0mk\u001b[0m\u001b[0;34m)\u001b[0m\u001b[0;34m\u001b[0m\u001b[0m\n\u001b[0m\u001b[1;32m    188\u001b[0m \u001b[0;34m\u001b[0m\u001b[0m\n\u001b[1;32m    189\u001b[0m         \u001b[0;32mif\u001b[0m \u001b[0mcallable\u001b[0m\u001b[0;34m(\u001b[0m\u001b[0marg\u001b[0m\u001b[0;34m)\u001b[0m\u001b[0;34m:\u001b[0m\u001b[0;34m\u001b[0m\u001b[0m\n",
      "\u001b[0;32m~/anaconda3/lib/python3.6/site-packages/IPython/core/magics/pylab.py\u001b[0m in \u001b[0;36mmatplotlib\u001b[0;34m(self, line)\u001b[0m\n\u001b[1;32m     97\u001b[0m             \u001b[0mprint\u001b[0m\u001b[0;34m(\u001b[0m\u001b[0;34m\"Available matplotlib backends: %s\"\u001b[0m \u001b[0;34m%\u001b[0m \u001b[0mbackends_list\u001b[0m\u001b[0;34m)\u001b[0m\u001b[0;34m\u001b[0m\u001b[0m\n\u001b[1;32m     98\u001b[0m         \u001b[0;32melse\u001b[0m\u001b[0;34m:\u001b[0m\u001b[0;34m\u001b[0m\u001b[0m\n\u001b[0;32m---> 99\u001b[0;31m             \u001b[0mgui\u001b[0m\u001b[0;34m,\u001b[0m \u001b[0mbackend\u001b[0m \u001b[0;34m=\u001b[0m \u001b[0mself\u001b[0m\u001b[0;34m.\u001b[0m\u001b[0mshell\u001b[0m\u001b[0;34m.\u001b[0m\u001b[0menable_matplotlib\u001b[0m\u001b[0;34m(\u001b[0m\u001b[0margs\u001b[0m\u001b[0;34m.\u001b[0m\u001b[0mgui\u001b[0m\u001b[0;34m)\u001b[0m\u001b[0;34m\u001b[0m\u001b[0m\n\u001b[0m\u001b[1;32m    100\u001b[0m             \u001b[0mself\u001b[0m\u001b[0;34m.\u001b[0m\u001b[0m_show_matplotlib_backend\u001b[0m\u001b[0;34m(\u001b[0m\u001b[0margs\u001b[0m\u001b[0;34m.\u001b[0m\u001b[0mgui\u001b[0m\u001b[0;34m,\u001b[0m \u001b[0mbackend\u001b[0m\u001b[0;34m)\u001b[0m\u001b[0;34m\u001b[0m\u001b[0m\n\u001b[1;32m    101\u001b[0m \u001b[0;34m\u001b[0m\u001b[0m\n",
      "\u001b[0;32m~/anaconda3/lib/python3.6/site-packages/IPython/core/interactiveshell.py\u001b[0m in \u001b[0;36menable_matplotlib\u001b[0;34m(self, gui)\u001b[0m\n\u001b[1;32m   2928\u001b[0m                 \u001b[0mgui\u001b[0m\u001b[0;34m,\u001b[0m \u001b[0mbackend\u001b[0m \u001b[0;34m=\u001b[0m \u001b[0mpt\u001b[0m\u001b[0;34m.\u001b[0m\u001b[0mfind_gui_and_backend\u001b[0m\u001b[0;34m(\u001b[0m\u001b[0mself\u001b[0m\u001b[0;34m.\u001b[0m\u001b[0mpylab_gui_select\u001b[0m\u001b[0;34m)\u001b[0m\u001b[0;34m\u001b[0m\u001b[0m\n\u001b[1;32m   2929\u001b[0m \u001b[0;34m\u001b[0m\u001b[0m\n\u001b[0;32m-> 2930\u001b[0;31m         \u001b[0mpt\u001b[0m\u001b[0;34m.\u001b[0m\u001b[0mactivate_matplotlib\u001b[0m\u001b[0;34m(\u001b[0m\u001b[0mbackend\u001b[0m\u001b[0;34m)\u001b[0m\u001b[0;34m\u001b[0m\u001b[0m\n\u001b[0m\u001b[1;32m   2931\u001b[0m         \u001b[0mpt\u001b[0m\u001b[0;34m.\u001b[0m\u001b[0mconfigure_inline_support\u001b[0m\u001b[0;34m(\u001b[0m\u001b[0mself\u001b[0m\u001b[0;34m,\u001b[0m \u001b[0mbackend\u001b[0m\u001b[0;34m)\u001b[0m\u001b[0;34m\u001b[0m\u001b[0m\n\u001b[1;32m   2932\u001b[0m \u001b[0;34m\u001b[0m\u001b[0m\n",
      "\u001b[0;32m~/anaconda3/lib/python3.6/site-packages/IPython/core/pylabtools.py\u001b[0m in \u001b[0;36mactivate_matplotlib\u001b[0;34m(backend)\u001b[0m\n\u001b[1;32m    305\u001b[0m \u001b[0;34m\u001b[0m\u001b[0m\n\u001b[1;32m    306\u001b[0m     \u001b[0;32mimport\u001b[0m \u001b[0mmatplotlib\u001b[0m\u001b[0;34m.\u001b[0m\u001b[0mpyplot\u001b[0m\u001b[0;34m\u001b[0m\u001b[0m\n\u001b[0;32m--> 307\u001b[0;31m     \u001b[0mmatplotlib\u001b[0m\u001b[0;34m.\u001b[0m\u001b[0mpyplot\u001b[0m\u001b[0;34m.\u001b[0m\u001b[0mswitch_backend\u001b[0m\u001b[0;34m(\u001b[0m\u001b[0mbackend\u001b[0m\u001b[0;34m)\u001b[0m\u001b[0;34m\u001b[0m\u001b[0m\n\u001b[0m\u001b[1;32m    308\u001b[0m \u001b[0;34m\u001b[0m\u001b[0m\n\u001b[1;32m    309\u001b[0m     \u001b[0;31m# This must be imported last in the matplotlib series, after\u001b[0m\u001b[0;34m\u001b[0m\u001b[0;34m\u001b[0m\u001b[0m\n",
      "\u001b[0;32m~/anaconda3/lib/python3.6/site-packages/matplotlib/pyplot.py\u001b[0m in \u001b[0;36mswitch_backend\u001b[0;34m(newbackend)\u001b[0m\n\u001b[1;32m    231\u001b[0m     \u001b[0mmatplotlib\u001b[0m\u001b[0;34m.\u001b[0m\u001b[0muse\u001b[0m\u001b[0;34m(\u001b[0m\u001b[0mnewbackend\u001b[0m\u001b[0;34m,\u001b[0m \u001b[0mwarn\u001b[0m\u001b[0;34m=\u001b[0m\u001b[0;32mFalse\u001b[0m\u001b[0;34m,\u001b[0m \u001b[0mforce\u001b[0m\u001b[0;34m=\u001b[0m\u001b[0;32mTrue\u001b[0m\u001b[0;34m)\u001b[0m\u001b[0;34m\u001b[0m\u001b[0m\n\u001b[1;32m    232\u001b[0m     \u001b[0;32mfrom\u001b[0m \u001b[0mmatplotlib\u001b[0m\u001b[0;34m.\u001b[0m\u001b[0mbackends\u001b[0m \u001b[0;32mimport\u001b[0m \u001b[0mpylab_setup\u001b[0m\u001b[0;34m\u001b[0m\u001b[0m\n\u001b[0;32m--> 233\u001b[0;31m     \u001b[0m_backend_mod\u001b[0m\u001b[0;34m,\u001b[0m \u001b[0mnew_figure_manager\u001b[0m\u001b[0;34m,\u001b[0m \u001b[0mdraw_if_interactive\u001b[0m\u001b[0;34m,\u001b[0m \u001b[0m_show\u001b[0m \u001b[0;34m=\u001b[0m \u001b[0mpylab_setup\u001b[0m\u001b[0;34m(\u001b[0m\u001b[0;34m)\u001b[0m\u001b[0;34m\u001b[0m\u001b[0m\n\u001b[0m\u001b[1;32m    234\u001b[0m \u001b[0;34m\u001b[0m\u001b[0m\n\u001b[1;32m    235\u001b[0m \u001b[0;34m\u001b[0m\u001b[0m\n",
      "\u001b[0;32m~/anaconda3/lib/python3.6/site-packages/matplotlib/backends/__init__.py\u001b[0m in \u001b[0;36mpylab_setup\u001b[0;34m()\u001b[0m\n\u001b[1;32m     30\u001b[0m     \u001b[0;31m# imports. 0 means only perform absolute imports.\u001b[0m\u001b[0;34m\u001b[0m\u001b[0;34m\u001b[0m\u001b[0m\n\u001b[1;32m     31\u001b[0m     backend_mod = __import__(backend_name,\n\u001b[0;32m---> 32\u001b[0;31m                              globals(),locals(),[backend_name],0)\n\u001b[0m\u001b[1;32m     33\u001b[0m \u001b[0;34m\u001b[0m\u001b[0m\n\u001b[1;32m     34\u001b[0m     \u001b[0;31m# Things we pull in from all backends\u001b[0m\u001b[0;34m\u001b[0m\u001b[0;34m\u001b[0m\u001b[0m\n",
      "\u001b[0;32m~/anaconda3/lib/python3.6/site-packages/matplotlib/backends/backend_qt4agg.py\u001b[0m in \u001b[0;36m<module>\u001b[0;34m()\u001b[0m\n\u001b[1;32m     16\u001b[0m \u001b[0;34m\u001b[0m\u001b[0m\n\u001b[1;32m     17\u001b[0m \u001b[0;34m\u001b[0m\u001b[0m\n\u001b[0;32m---> 18\u001b[0;31m \u001b[0;32mfrom\u001b[0m \u001b[0;34m.\u001b[0m\u001b[0mbackend_qt5agg\u001b[0m \u001b[0;32mimport\u001b[0m \u001b[0mFigureCanvasQTAggBase\u001b[0m \u001b[0;32mas\u001b[0m \u001b[0m_FigureCanvasQTAggBase\u001b[0m\u001b[0;34m\u001b[0m\u001b[0m\n\u001b[0m\u001b[1;32m     19\u001b[0m \u001b[0;34m\u001b[0m\u001b[0m\n\u001b[1;32m     20\u001b[0m \u001b[0;32mfrom\u001b[0m \u001b[0;34m.\u001b[0m\u001b[0mbackend_agg\u001b[0m \u001b[0;32mimport\u001b[0m \u001b[0mFigureCanvasAgg\u001b[0m\u001b[0;34m\u001b[0m\u001b[0m\n",
      "\u001b[0;32m~/anaconda3/lib/python3.6/site-packages/matplotlib/backends/backend_qt5agg.py\u001b[0m in \u001b[0;36m<module>\u001b[0;34m()\u001b[0m\n\u001b[1;32m     14\u001b[0m \u001b[0;34m\u001b[0m\u001b[0m\n\u001b[1;32m     15\u001b[0m \u001b[0;32mfrom\u001b[0m \u001b[0;34m.\u001b[0m\u001b[0mbackend_agg\u001b[0m \u001b[0;32mimport\u001b[0m \u001b[0mFigureCanvasAgg\u001b[0m\u001b[0;34m\u001b[0m\u001b[0m\n\u001b[0;32m---> 16\u001b[0;31m \u001b[0;32mfrom\u001b[0m \u001b[0;34m.\u001b[0m\u001b[0mbackend_qt5\u001b[0m \u001b[0;32mimport\u001b[0m \u001b[0mQtCore\u001b[0m\u001b[0;34m\u001b[0m\u001b[0m\n\u001b[0m\u001b[1;32m     17\u001b[0m \u001b[0;32mfrom\u001b[0m \u001b[0;34m.\u001b[0m\u001b[0mbackend_qt5\u001b[0m \u001b[0;32mimport\u001b[0m \u001b[0mQtGui\u001b[0m\u001b[0;34m\u001b[0m\u001b[0m\n\u001b[1;32m     18\u001b[0m \u001b[0;32mfrom\u001b[0m \u001b[0;34m.\u001b[0m\u001b[0mbackend_qt5\u001b[0m \u001b[0;32mimport\u001b[0m \u001b[0mFigureManagerQT\u001b[0m\u001b[0;34m\u001b[0m\u001b[0m\n",
      "\u001b[0;32m~/anaconda3/lib/python3.6/site-packages/matplotlib/backends/backend_qt5.py\u001b[0m in \u001b[0;36m<module>\u001b[0;34m()\u001b[0m\n\u001b[1;32m     24\u001b[0m \u001b[0;34m\u001b[0m\u001b[0m\n\u001b[1;32m     25\u001b[0m \u001b[0;32mfrom\u001b[0m \u001b[0mmatplotlib\u001b[0m\u001b[0;34m.\u001b[0m\u001b[0mwidgets\u001b[0m \u001b[0;32mimport\u001b[0m \u001b[0mSubplotTool\u001b[0m\u001b[0;34m\u001b[0m\u001b[0m\n\u001b[0;32m---> 26\u001b[0;31m \u001b[0;32mimport\u001b[0m \u001b[0mmatplotlib\u001b[0m\u001b[0;34m.\u001b[0m\u001b[0mbackends\u001b[0m\u001b[0;34m.\u001b[0m\u001b[0mqt_editor\u001b[0m\u001b[0;34m.\u001b[0m\u001b[0mfigureoptions\u001b[0m \u001b[0;32mas\u001b[0m \u001b[0mfigureoptions\u001b[0m\u001b[0;34m\u001b[0m\u001b[0m\n\u001b[0m\u001b[1;32m     27\u001b[0m \u001b[0;34m\u001b[0m\u001b[0m\n\u001b[1;32m     28\u001b[0m from .qt_compat import (QtCore, QtGui, QtWidgets, _getSaveFileName,\n",
      "\u001b[0;32m~/anaconda3/lib/python3.6/site-packages/matplotlib/backends/qt_editor/figureoptions.py\u001b[0m in \u001b[0;36m<module>\u001b[0;34m()\u001b[0m\n\u001b[1;32m     18\u001b[0m \u001b[0;32mimport\u001b[0m \u001b[0mmatplotlib\u001b[0m\u001b[0;34m\u001b[0m\u001b[0m\n\u001b[1;32m     19\u001b[0m \u001b[0;32mfrom\u001b[0m \u001b[0mmatplotlib\u001b[0m \u001b[0;32mimport\u001b[0m \u001b[0mcm\u001b[0m\u001b[0;34m,\u001b[0m \u001b[0mmarkers\u001b[0m\u001b[0;34m,\u001b[0m \u001b[0mcolors\u001b[0m \u001b[0;32mas\u001b[0m \u001b[0mmcolors\u001b[0m\u001b[0;34m\u001b[0m\u001b[0m\n\u001b[0;32m---> 20\u001b[0;31m \u001b[0;32mimport\u001b[0m \u001b[0mmatplotlib\u001b[0m\u001b[0;34m.\u001b[0m\u001b[0mbackends\u001b[0m\u001b[0;34m.\u001b[0m\u001b[0mqt_editor\u001b[0m\u001b[0;34m.\u001b[0m\u001b[0mformlayout\u001b[0m \u001b[0;32mas\u001b[0m \u001b[0mformlayout\u001b[0m\u001b[0;34m\u001b[0m\u001b[0m\n\u001b[0m\u001b[1;32m     21\u001b[0m \u001b[0;32mfrom\u001b[0m \u001b[0mmatplotlib\u001b[0m\u001b[0;34m.\u001b[0m\u001b[0mbackends\u001b[0m\u001b[0;34m.\u001b[0m\u001b[0mqt_compat\u001b[0m \u001b[0;32mimport\u001b[0m \u001b[0mQtGui\u001b[0m\u001b[0;34m\u001b[0m\u001b[0m\n\u001b[1;32m     22\u001b[0m \u001b[0;34m\u001b[0m\u001b[0m\n",
      "\u001b[0;32m~/anaconda3/lib/python3.6/site-packages/matplotlib/backends/qt_editor/formlayout.py\u001b[0m in \u001b[0;36m<module>\u001b[0;34m()\u001b[0m\n\u001b[1;32m     54\u001b[0m \u001b[0;34m\u001b[0m\u001b[0m\n\u001b[1;32m     55\u001b[0m \u001b[0;32mfrom\u001b[0m \u001b[0mmatplotlib\u001b[0m \u001b[0;32mimport\u001b[0m \u001b[0mcolors\u001b[0m \u001b[0;32mas\u001b[0m \u001b[0mmcolors\u001b[0m\u001b[0;34m\u001b[0m\u001b[0m\n\u001b[0;32m---> 56\u001b[0;31m \u001b[0;32mfrom\u001b[0m \u001b[0mmatplotlib\u001b[0m\u001b[0;34m.\u001b[0m\u001b[0mbackends\u001b[0m\u001b[0;34m.\u001b[0m\u001b[0mqt_compat\u001b[0m \u001b[0;32mimport\u001b[0m \u001b[0mQtGui\u001b[0m\u001b[0;34m,\u001b[0m \u001b[0mQtWidgets\u001b[0m\u001b[0;34m,\u001b[0m \u001b[0mQtCore\u001b[0m\u001b[0;34m\u001b[0m\u001b[0m\n\u001b[0m\u001b[1;32m     57\u001b[0m \u001b[0;34m\u001b[0m\u001b[0m\n\u001b[1;32m     58\u001b[0m \u001b[0;34m\u001b[0m\u001b[0m\n",
      "\u001b[0;32m~/anaconda3/lib/python3.6/site-packages/matplotlib/backends/qt_compat.py\u001b[0m in \u001b[0;36m<module>\u001b[0;34m()\u001b[0m\n\u001b[1;32m    139\u001b[0m     \u001b[0;31m# have been changed in the above if block\u001b[0m\u001b[0;34m\u001b[0m\u001b[0;34m\u001b[0m\u001b[0m\n\u001b[1;32m    140\u001b[0m     \u001b[0;32mif\u001b[0m \u001b[0mQT_API\u001b[0m \u001b[0;32min\u001b[0m \u001b[0;34m[\u001b[0m\u001b[0mQT_API_PYQT\u001b[0m\u001b[0;34m,\u001b[0m \u001b[0mQT_API_PYQTv2\u001b[0m\u001b[0;34m]\u001b[0m\u001b[0;34m:\u001b[0m  \u001b[0;31m# PyQt4 API\u001b[0m\u001b[0;34m\u001b[0m\u001b[0m\n\u001b[0;32m--> 141\u001b[0;31m         \u001b[0;32mfrom\u001b[0m \u001b[0mPyQt4\u001b[0m \u001b[0;32mimport\u001b[0m \u001b[0mQtCore\u001b[0m\u001b[0;34m,\u001b[0m \u001b[0mQtGui\u001b[0m\u001b[0;34m\u001b[0m\u001b[0m\n\u001b[0m\u001b[1;32m    142\u001b[0m \u001b[0;34m\u001b[0m\u001b[0m\n\u001b[1;32m    143\u001b[0m         \u001b[0;32mtry\u001b[0m\u001b[0;34m:\u001b[0m\u001b[0;34m\u001b[0m\u001b[0m\n",
      "\u001b[0;31mModuleNotFoundError\u001b[0m: No module named 'PyQt4'"
     ]
    }
   ],
   "source": [
    "%matplotlib qt\n",
    "plt.figure(figsize=(15,10))\n",
    "plt.plot(time_series[0],label=\"Measles\")\n",
    "plt.plot(time_series[1],label=\"Coinfection\")\n",
    "plt.plot(final[0],label=\"fit to measles\")\n",
    "plt.plot(final[1],label=\"fit to coinfection\")\n",
    "# measles_ts_smooth = savgol_filter(measles_timeseries, 41, 3)\n",
    "# coinf_ts_smooth = savgol_filter(coinf_timeseries, 41, 3)\n",
    "# plt.plot(measles_ts_smooth)\n",
    "# plt.plot(coinf_ts_smooth)\n",
    "# beta0,beta1,gamma0,gamma1,c=1.2,1.5,0.1,0.1,0.3\n",
    "# true_params = np.array((beta0,beta1,gamma0,gamma1,c))\n",
    "# data = g(t_range, INPUT, true_params)\n",
    "#data += np.random.normal(size=data.shape)\n",
    "# plt.plot(data[0],label=\"Measles\")\n",
    "# plt.plot(data[1],label=\"coinf\")\n",
    "plt.legend()\n",
    "plt.show()"
   ]
  },
  {
   "cell_type": "code",
   "execution_count": 20,
   "metadata": {},
   "outputs": [
    {
     "name": "stdout",
     "output_type": "stream",
     "text": [
      "Name       Value      Min      Max   Stderr     Vary     Expr Brute_Step\n",
      "beta0     0.1921     0.01        5     None     True     None     None\n",
      "beta1          4     0.01        5     None     True     None     None\n",
      "c1        0.1292   0.0001      0.9     None     True     None     None\n",
      "c2      0.005506   0.0001      0.9     None     True     None     None\n",
      "c3       0.01411   0.0001      0.9     None     True     None     None\n",
      "c4        0.0725   0.0001      0.9     None     True     None     None\n",
      "delta0         1      0.9        1     None     True     None     None\n",
      "gamma0    0.1123     0.01      0.9     None     True     None     None\n",
      "gamma1   0.02401    0.001      0.9     None     True     None     None\n",
      "omega     0.1106  0.08333     0.25     None     True     None     None\n",
      "sigma    0.09586  0.08333     0.25     None     True     None     None\n"
     ]
    }
   ],
   "source": [
    "result.params.pretty_print()"
   ]
  },
  {
   "cell_type": "code",
   "execution_count": null,
   "metadata": {
    "collapsed": true
   },
   "outputs": [],
   "source": [
    "def coinf_sirs_model2(INP,t,ps):  \n",
    "    try:\n",
    "        beta0=ps['beta0'].value\n",
    "        beta1=ps['beta1'].value\n",
    "#     beta=np.hstack((ps['beta0'].value,ps['beta1'].value))\n",
    "        gamma0=ps['gamma0'].value\n",
    "        gamma1=ps['gamma1'].value\n",
    "        c1=ps['c1'].value\n",
    "        c2=ps['c2'].value\n",
    "        c3=ps['c3'].value\n",
    "        c4=ps['c4'].value\n",
    "        sigma=ps['sigma'].value\n",
    "        omega=ps['omega'].value\n",
    "        delta0=ps['delta0'].value\n",
    "\n",
    "    except:\n",
    "        beta0,beta1,gamma0,gamma1,c1,c2,c3,c4,sigma,omega,delta0=ps\n",
    "    N=2618\n",
    "    \n",
    "    mu=np.array([c1*omega,c2*omega,c3*omega,c4*gamma1])\n",
    "    beta=np.hstack((beta0/N,beta1/N))\n",
    "\n",
    "    \n",
    "    Y=np.zeros((17))\n",
    "    V = INP    \n",
    "    \n",
    "    infect_0=(V[1]+V[4]+V[7]+V[10]+V[13])\n",
    "    infect_1=(V[6]+V[7]+V[8])\n",
    "    \n",
    "    #Susceptible to measles\n",
    "    \n",
    "    Y[0]=-beta1*V[0]*infect_1-beta0*V[0]*infect_0+delta0*V[2]\n",
    "\n",
    "    Y[1]=-beta1*V[1]*infect_1+beta0*V[0]*infect_0-gamma0*V[1]\n",
    "\n",
    "    Y[2]=-beta1*V[2]*infect_1+gamma0*V[1]-delta0*V[2]\n",
    "\n",
    "    #Exposed to measles\n",
    "\n",
    "    Y[3]=beta1*V[0]*infect_1-sigma*V[3]-beta0*V[3]*infect_0+delta0*V[5]\n",
    "\n",
    "    Y[4]=beta1*V[1]*infect_1-sigma*V[4]+beta0*V[3]*infect_0-gamma0*V[4]\n",
    "\n",
    "    Y[5]=beta1*V[2]*infect_1-sigma*V[5]+gamma0*V[4]-delta0*V[5]\n",
    "\n",
    "    #Infected with measles\n",
    "\n",
    "    Y[6]=sigma*V[3]-mu[0]*V[6]-omega*Y[6]-beta0*V[6]*infect_0+delta0*V[8]+sigma*V[5]\n",
    "\n",
    "    Y[7]=sigma*V[4]-mu[1]*V[7]-omega*Y[7]+beta0*V[6]*infect_0-gamma0*V[7]\n",
    "\n",
    "    #get rid of\n",
    "    Y[8]=sigma*V[5]-mu[2]*V[8]-omega*Y[8]+gamma0*V[7]-delta0*V[8]\n",
    "\n",
    "    #Immunosuppressed from measles\n",
    "\n",
    "    Y[9]=omega*Y[6]-gamma1*Y[9]-beta0*V[9]*infect_0+delta0*V[11]\n",
    "\n",
    "    Y[10]=omega*Y[7]-gamma1*Y[10]-mu[3]*V[10]+beta0*V[9]*infect_0-gamma0*V[10]\n",
    "\n",
    "    #get rid of\n",
    "    Y[11]=omega*Y[8]-gamma1*Y[11]+gamma0*V[10]-delta0*V[11]\n",
    "\n",
    "    #Recovered from measles\n",
    "\n",
    "    Y[12]=gamma1*Y[9]-beta0*V[12]*infect_0+delta0*V[14]\n",
    "\n",
    "    Y[13]=gamma1*Y[10]+beta0*V[12]*infect_0-gamma0*V[13]\n",
    "\n",
    "    Y[14]=gamma1*Y[11]+gamma0*V[13]-delta0*V[14]\n",
    "\n",
    "\n",
    "\n",
    "    Y[15]=mu[0]*V[6]+mu[2]*V[8]\n",
    "    Y[16]=mu[1]*V[7]+mu[3]*V[10]\n",
    "\n",
    "    \n",
    "    return Y   # For odeint\n"
   ]
  },
  {
   "cell_type": "code",
   "execution_count": 1,
   "metadata": {},
   "outputs": [
    {
     "ename": "NameError",
     "evalue": "name 'report_fit' is not defined",
     "output_type": "error",
     "traceback": [
      "\u001b[0;31m---------------------------------------------------------------------------\u001b[0m",
      "\u001b[0;31mNameError\u001b[0m                                 Traceback (most recent call last)",
      "\u001b[0;32m<ipython-input-1-1028ec4d1813>\u001b[0m in \u001b[0;36m<module>\u001b[0;34m()\u001b[0m\n\u001b[0;32m----> 1\u001b[0;31m \u001b[0mreport_fit\u001b[0m\u001b[0;34m(\u001b[0m\u001b[0mresult\u001b[0m\u001b[0;34m)\u001b[0m\u001b[0;34m\u001b[0m\u001b[0m\n\u001b[0m",
      "\u001b[0;31mNameError\u001b[0m: name 'report_fit' is not defined"
     ]
    }
   ],
   "source": [
    "report_fit(result)"
   ]
  },
  {
   "cell_type": "code",
   "execution_count": null,
   "metadata": {
    "collapsed": true
   },
   "outputs": [],
   "source": []
  }
 ],
 "metadata": {
  "kernelspec": {
   "display_name": "Python 3",
   "language": "python",
   "name": "python3"
  },
  "language_info": {
   "codemirror_mode": {
    "name": "ipython",
    "version": 3
   },
   "file_extension": ".py",
   "mimetype": "text/x-python",
   "name": "python",
   "nbconvert_exporter": "python",
   "pygments_lexer": "ipython3",
   "version": "3.6.2"
  }
 },
 "nbformat": 4,
 "nbformat_minor": 2
}
