{
 "cells": [
  {
   "cell_type": "code",
   "execution_count": 1,
   "metadata": {
    "collapsed": true
   },
   "outputs": [],
   "source": [
    "import numpy as np\n",
    "import matplotlib.pyplot as plt\n",
    "import pylab as pl"
   ]
  },
  {
   "cell_type": "code",
   "execution_count": 2,
   "metadata": {
    "collapsed": true
   },
   "outputs": [],
   "source": [
    "def stoc_eqs(INP,ts): \n",
    "    V = INP\n",
    "    Rate=np.zeros((5))\n",
    "    Change=np.zeros((5,4))\n",
    "    N=np.sum(V[range(4)])\n",
    "    Rate[0] = beta*V[0]*V[2]/N; Change[0,:]=([-1, +1, 0, 0]);\n",
    "    Rate[1] = sigma*V[1];  Change[1,:]=([0, -1, +1, 0]);\n",
    "    Rate[2] = gamma*V[2];  Change[2,:]=([0, 0,-1, +1]);\n",
    "\n",
    "    Rate[4] = mort*V[2];  Change[4,:]=([0, 0, -1, 0]);\n",
    "    R1=pl.rand();\n",
    "    R2=pl.rand();\n",
    "    ts = -np.log(R2)/(np.sum(Rate));\n",
    "    m=min(pl.find(pl.cumsum(Rate)>=R1*pl.sum(Rate)));\n",
    "    V[range(4)]=V[range(4)]+Change[m,:]\n",
    "    return [V,ts]"
   ]
  },
  {
   "cell_type": "code",
   "execution_count": 3,
   "metadata": {
    "collapsed": true
   },
   "outputs": [],
   "source": [
    "def stoc_eqs(INP,ts): \n",
    "    V = INP\n",
    "    Rate=np.zeros((22))\n",
    "    Change=np.zeros((22,11))\n",
    "    N=np.sum(V[range(11)])\n",
    "    #HUMAN\n",
    "    Rate[0]=(r/1e3)*beta[0,1]*V[8]; Change[0,:]=([-1,+1,0,0,0,0,0,0,0,0,0]);\n",
    "    Rate[1]=sigma[0]*V[1]; Change[1,:]=([0,-1,+1,0,0,0,0,0,0,0,0]);\n",
    "    Rate[2]=gamma[0]*V[2]; Change[2,:]=([0,0,-1,+1,0,0,0,0,0,0,0]);\n",
    "    Rate[3]=delta[0]*V[3]; Change[3,:]=([+1,0,0,-1,0,0,0,0,0,0,0]);\n",
    "    \n",
    "    #MUTANT\n",
    "    Rate[4]=(r/1e3)*beta[0,1]*V[8]; Change[4,:]=([0,0,0,0,-1,+1,0,0,0,0,0]);\n",
    "    Rate[5]=sigma[0]*V[5]; Change[5,:]=([0,0,0,0,0,-1,+1,0,0,0,0]);\n",
    "    Rate[6]=gamma[0]*V[6]; Change[6,:]=([0,0,0,0,0,0,-1,+1,0,0,0]);\n",
    "    Rate[7]=delta[0]*V[7]; Change[7,:]=([0,0,0,0,+1,0,0,-1,0,0,0]);\n",
    "    \n",
    "    \n",
    "    #MOSQUITO\n",
    "    \n",
    "    Rate[8]=(r/1e3)*beta[1,0]*V[2]; Change[8,:]=([0,0,0,0,0,0,0,0,-1,+1,0]);\n",
    "    Rate[9]=(r/1e3)*beta[1,1]*V[6]; Change[9,:]=([0,0,0,0,0,0,0,0,-1,+1,0]);\n",
    "    Rate[10]=sigma[1]*V[9]; Change[9,:]=([0,0,0,0,0,0,0,0,0,-1,+1]);\n",
    "    \n",
    "    #DEATH\n",
    "    #HUMAN\n",
    "    Rate[11]=d[0]*V[0]; Change[11,0]=0 #nothing happens;\n",
    "    Rate[12]=d[0]*V[1]; Change[12,:]=([+1,-1,0,0,0,0,0,0,0,0,0]);\n",
    "    Rate[13]=d[0]*V[2]; Change[13,:]=([+1,0,-1,0,0,0,0,0,0,0,0]);\n",
    "    Rate[14]=d[0]*V[3]; Change[14,:]=([+1,0,0,-1,0,0,0,0,0,0,0]);\n",
    "    \n",
    "    #MUTANT    \n",
    "    Rate[15]=d[0]*V[4]; Change[15,4]=0 #nothing happens;\n",
    "    Rate[16]=d[0]*V[5]; Change[16,:]=([0,0,0,0,+1,-1,0,0,0,0,0]);\n",
    "    Rate[17]=d[0]*V[6]; Change[17,:]=([0,0,0,0,+1,0,-1,0,0,0,0]);\n",
    "    Rate[18]=d[0]*V[7]; Change[18,:]=([0,0,0,0,+1,0,0,-1,0,0,0]);\n",
    "    \n",
    "    #MOSQUITO\n",
    "    Rate[19]=d[1]*V[8]; Change[19,8]=0; #nothing happens\n",
    "    Rate[20]=d[1]*V[9]; Change[20,:]=([0,0,0,0,0,0,0,0,+1,-1,0]);\n",
    "    Rate[21]=d[1]*V[10]; Change[21,:]=([0,0,0,0,0,0,0,0,+1,0,-1]);\n",
    "    \n",
    "    \n",
    "    \n",
    "    \n",
    "    \n",
    "    R1=pl.rand();\n",
    "    R2=pl.rand();\n",
    "    #print(R1)\n",
    "    ts = -np.log(R2)/(np.sum(Rate));\n",
    "    a=np.cumsum(Rate)>=R1*np.sum(Rate);\n",
    "    #print(a)\n",
    "    b=np.cumsum(Rate)\n",
    "    #print(b)\n",
    "    nn=np.where(np.cumsum(Rate)>=R1*np.sum(Rate))\n",
    "    #print(nn)\n",
    "    m=min(nn[0])\n",
    "    #m=min(np.where(np.cumsum(Rate)>=R1*np.sum(Rate)));\n",
    "    #print(m)\n",
    "    V[range(11)]=V[range(11)]+Change[m,:]\n",
    "    #print(V)\n",
    "    return [V,ts]"
   ]
  },
  {
   "cell_type": "code",
   "execution_count": 106,
   "metadata": {
    "collapsed": true
   },
   "outputs": [],
   "source": [
    "def Stoch_Iteration(INPUT):\n",
    "    lop=0\n",
    "    ts=0\n",
    "    T=[0]\n",
    "    hS=[0]\n",
    "    hE=[0]\n",
    "    hI=[0]\n",
    "    hR=[0]\n",
    "    mS=[0]\n",
    "    mE=[0]\n",
    "    mI=[0]\n",
    "    mR=[0]\n",
    "    vS=[0]\n",
    "    vE=[0]\n",
    "    vI=[0]\n",
    "\n",
    "    while T[lop] < ND:\n",
    "        lop=lop+1\n",
    "        T.append(T[lop-1]+ts)\n",
    "        hS.append(INPUT[0])\n",
    "        hE.append(INPUT[1])\n",
    "        hI.append(INPUT[2])\n",
    "        hR.append(INPUT[3])\n",
    "        mS.append(INPUT[4])\n",
    "        mE.append(INPUT[5])\n",
    "        mI.append(INPUT[6])\n",
    "        mR.append(INPUT[7])\n",
    "        vS.append(INPUT[8])\n",
    "        vE.append(INPUT[9])\n",
    "        vI.append(INPUT[10])\n",
    "        print(INPUT)\n",
    "        [res,ts] = stoc_eqs(INPUT,ts)\n",
    "        lop=lop+1\n",
    "        T.append(T[lop-1])\n",
    "        hS.append(INPUT[0])\n",
    "        hE.append(INPUT[1])\n",
    "        hI.append(INPUT[2])\n",
    "        hR.append(INPUT[3])\n",
    "        mS.append(INPUT[4])\n",
    "        mE.append(INPUT[5])\n",
    "        mI.append(INPUT[6])\n",
    "        mR.append(INPUT[7])\n",
    "        vS.append(INPUT[8])\n",
    "        vE.append(INPUT[9])\n",
    "        vI.append(INPUT[10])\n",
    "        print(INPUT)\n",
    "    return [T,hS,hE,hI,hR,mS,mE,mI,mR,vS,vE,vI]\n"
   ]
  },
  {
   "cell_type": "code",
   "execution_count": 19,
   "metadata": {
    "collapsed": true
   },
   "outputs": [],
   "source": [
    "def Stoch_Iteration(INPUT):\n",
    "    lop=0\n",
    "    ts=0\n",
    "    T=[0]\n",
    "    #T.append(T[lop-1]+ts)\n",
    "    hS=[INPUT[0]]\n",
    "    hE=[INPUT[1]]\n",
    "    hI=[INPUT[2]]\n",
    "    hR=[INPUT[3]]\n",
    "    mS=[INPUT[4]]\n",
    "    mE=[INPUT[5]]\n",
    "    mI=[INPUT[6]]\n",
    "    mR=[INPUT[7]]\n",
    "    vS=[INPUT[8]]\n",
    "    vE=[INPUT[9]]\n",
    "    vI=[INPUT[10]]\n",
    "    old=INPUT\n",
    "\n",
    "    while T[lop] < ND:\n",
    "        \n",
    "        [res,ts] = stoc_eqs(old,ts)\n",
    "        lop=lop+1\n",
    "        T.append(T[lop-1]+ts)\n",
    "        hS.append(res[0])\n",
    "        hE.append(res[1])\n",
    "        hI.append(res[2])\n",
    "        hR.append(res[3])\n",
    "        mS.append(res[4])\n",
    "        mE.append(res[5])\n",
    "        mI.append(res[6])\n",
    "        mR.append(res[7])\n",
    "        vS.append(res[8])\n",
    "        vE.append(res[9])\n",
    "        vI.append(res[10])\n",
    "        res=old\n",
    "    return [T,hS,hE,hI,hR,mS,mE,mI,mR,vS,vE,vI]\n"
   ]
  },
  {
   "cell_type": "code",
   "execution_count": 33,
   "metadata": {
    "collapsed": true
   },
   "outputs": [],
   "source": [
    "r=0.5\n",
    "omega=1/14\n",
    "d=np.array([5.5e-5, 0.1])\n",
    "sigma=np.array([0.1,1/11])\n",
    "\n",
    "gamma=np.array([1/270, 1/270])\n",
    "delta=np.array([1/360,1/360])\n",
    "beta=np.array([[0, 0.02], [0.5,0.2]]);\n",
    "\n",
    "N0=1000\n",
    "Mut=200\n",
    "Mosq=10*N0\n",
    "\n",
    "ND=MaxTime=2*365.0\n",
    "#ND=MaxTime=1*365.0\n",
    "INPUT=np.array((N0-Mut-1,0,1,0,Mut,0,0,0,Mosq-1,0,1))\n",
    "timestep=0.0"
   ]
  },
  {
   "cell_type": "code",
   "execution_count": 34,
   "metadata": {},
   "outputs": [],
   "source": [
    "[T,hS,hE,hI,hR,mS,mE,mI,mR,vS,vE,vI]=Stoch_Iteration(INPUT)"
   ]
  },
  {
   "cell_type": "code",
   "execution_count": 35,
   "metadata": {
    "collapsed": true
   },
   "outputs": [],
   "source": [
    "tT=np.array(T)[1:,]/365.\n",
    "thS=np.array(hS)[1:,]\n",
    "thE=np.array(hE)[1:,]\n",
    "thI=np.array(hI)[1:,]\n",
    "thR=np.array(hR)[1:,]\n",
    "tmS=np.array(mS)[1:,]\n",
    "tmE=np.array(mE)[1:,]\n",
    "tmI=np.array(mI)[1:,]\n",
    "tmR=np.array(mR)[1:,]\n",
    "tvS=np.array(vS)[1:,]\n",
    "tvE=np.array(vE)[1:,]\n",
    "tvI=np.array(vI)[1:,]\n"
   ]
  },
  {
   "cell_type": "code",
   "execution_count": 36,
   "metadata": {},
   "outputs": [
    {
     "name": "stderr",
     "output_type": "stream",
     "text": [
      "/home/susanna/anaconda3/lib/python3.6/site-packages/IPython/core/pylabtools.py:121: UserWarning: Creating legend with loc=\"best\" can be slow with large amounts of data.\n",
      "  fig.canvas.print_figure(bytes_io, **kw)\n"
     ]
    },
    {
     "data": {
      "image/png": "[encoded data removed]",
      "text/plain": [
       "<Figure size 1080x720 with 1 Axes>"
      ]
     },
     "metadata": {},
     "output_type": "display_data"
    }
   ],
   "source": [
    "plt.figure(figsize=(15,10))\n",
    "plt.plot(tT,thI,label=\"human\")\n",
    "plt.plot(tT,tmI, label=\"mutation\")\n",
    "\n",
    "plt.legend()\n",
    "plt.show()"
   ]
  },
  {
   "cell_type": "code",
   "execution_count": 64,
   "metadata": {
    "collapsed": true
   },
   "outputs": [],
   "source": [
    "a=np.array((0,1,0,0,0))\n",
    "aa=np.where(a==0)"
   ]
  },
  {
   "cell_type": "code",
   "execution_count": 65,
   "metadata": {},
   "outputs": [
    {
     "data": {
      "text/plain": [
       "array([0, 2, 3, 4])"
      ]
     },
     "execution_count": 65,
     "metadata": {},
     "output_type": "execute_result"
    }
   ],
   "source": [
    "aa[0]"
   ]
  },
  {
   "cell_type": "code",
   "execution_count": null,
   "metadata": {
    "collapsed": true
   },
   "outputs": [],
   "source": [
    "\n",
    "\n",
    "beta=1.0\n",
    "\n",
    "gamma=1/10.0\n",
    "sigma=1/12.0\n",
    "mu=5e-4\n",
    "N0=2618.0\n",
    "mu_d=1/20\n",
    "### You may want to try with popylation size of 50 (small) to see the events\n",
    "### In this case uncomment the next line\n",
    "#N0=50.0\n",
    "ND=MaxTime=1*365.0\n",
    "mort=334/2618\n",
    "# X0=pl.floor(gamma*N0/beta)\n",
    "# Y0=pl.ceil(mu*N0/gamma)\n",
    "# Z0=N0-X0-Y0\n",
    "W0=N0-1\n",
    "X0=1\n",
    "Y0=0\n",
    "Z0=0\n",
    "INPUT = np.array((W0,X0,Y0,Z0))\n",
    "\n",
    "timestep=0.0\n",
    "\n",
    "def stoc_eqs(INP,ts): \n",
    "\tV = INP\n",
    "\tRate=np.zeros((5))\n",
    "\tChange=np.zeros((5,4))\n",
    "\tN=np.sum(V[range(4)])\n",
    "\tRate[0] = beta*V[0]*V[2]/N; Change[0,:]=([-1, +1, 0, 0]);\n",
    "\tRate[1] = sigma*V[1];  Change[1,:]=([0, -1, +1, 0]);\n",
    "\tRate[2] = gamma*V[2];  Change[2,:]=([0, 0,-1, +1]);\n",
    "# \tRate[3] = mu*N;  Change[3,:]=([+1, 0, 0, 0]);\n",
    "# \tRate[4] = mu*V[0];  Change[4,:]=([-1, 0, 0, 0]);\n",
    "# \tRate[5] = mu*V[1];  Change[5,:]=([0, -1, 0, 0]);\n",
    "# \tRate[6] = mu*V[2];  Change[6,:]=([0, 0, -1, 0]);\n",
    "# \tRate[7] = mu*V[3];  Change[7,:]=([0, 0, 0, -1]);\n",
    "\tRate[4] = mort*V[2];  Change[4,:]=([0, 0, -1, 0]);\n",
    "\tR1=pl.rand();\n",
    "\tR2=pl.rand();\n",
    "\tts = -np.log(R2)/(np.sum(Rate));\n",
    "\tm=min(pl.find(pl.cumsum(Rate)>=R1*pl.sum(Rate)));\n",
    "\tV[range(4)]=V[range(4)]+Change[m,:]\n",
    "\treturn [V,ts]\n",
    "\n",
    "def Stoch_Iteration(INPUT):\n",
    "\tlop=0\n",
    "\tts=0\n",
    "\tT=[0]\n",
    "\tS=[0]\n",
    "\tE=[0]\n",
    "\tI=[0]\n",
    "\tR=[0]\n",
    "\twhile T[lop] < ND:\n",
    "\t\tlop=lop+1\n",
    "\t\tT.append(T[lop-1]+ts)\n",
    "\t\tS.append(INPUT[0])\n",
    "\t\tE.append(INPUT[1])\n",
    "\t\tI.append(INPUT[2])\n",
    "\t\tR.append(INPUT[3])\n",
    "\t\t[res,ts] = stoc_eqs(INPUT,ts)\n",
    "\t\tlop=lop+1\n",
    "\t\tT.append(T[lop-1])\n",
    "\t\tS.append(INPUT[0])\n",
    "\t\tE.append(INPUT[1])\n",
    "\t\tI.append(INPUT[2])\n",
    "\t\tR.append(INPUT[3])\n",
    "\treturn [T,S,E,I,R]\n",
    "\n",
    "[T,S,E,I,R]=Stoch_Iteration(INPUT)\n",
    "\n",
    "tT=np.array(T)[1:,]/365.\n",
    "tS=np.array(S)[1:,]\n",
    "tE=np.array(E)[1:,]\n",
    "tI=np.array(I)[1:,]\n",
    "tR=np.array(R)[1:,]\n",
    "pl.figure(figsize=(15,10))\n",
    "pl.subplot(411)\n",
    "pl.plot(tT, tS, 'g')\n",
    "#pl.xlabel ('Time (years)')\n",
    "pl.ylabel ('Susceptible')\n",
    "pl.subplot(412)\n",
    "pl.plot(tT, tE, 'g')\n",
    "#pl.xlabel ('Time (years)')\n",
    "pl.ylabel ('Exposed')\n",
    "pl.subplot(413)\n",
    "pl.plot(tT, tI, 'r')\n",
    "#pl.xlabel ('Time (years)')\n",
    "pl.ylabel ('Infectious')\n",
    "pl.subplot(414)\n",
    "pl.plot(tT, tR, 'k')\n",
    "pl.xlabel ('Time (years)')\n",
    "pl.ylabel ('Recovered')\n",
    "pl.show()"
   ]
  },
  {
   "cell_type": "code",
   "execution_count": null,
   "metadata": {
    "collapsed": true
   },
   "outputs": [],
   "source": []
  },
  {
   "cell_type": "code",
   "execution_count": null,
   "metadata": {
    "collapsed": true
   },
   "outputs": [],
   "source": []
  },
  {
   "cell_type": "code",
   "execution_count": null,
   "metadata": {
    "collapsed": true
   },
   "outputs": [],
   "source": []
  }
 ],
 "metadata": {
  "kernelspec": {
   "display_name": "Python 3",
   "language": "python",
   "name": "python3"
  },
  "language_info": {
   "codemirror_mode": {
    "name": "ipython",
    "version": 3
   },
   "file_extension": ".py",
   "mimetype": "text/x-python",
   "name": "python",
   "nbconvert_exporter": "python",
   "pygments_lexer": "ipython3",
   "version": "3.6.2"
  }
 },
 "nbformat": 4,
 "nbformat_minor": 2
}
